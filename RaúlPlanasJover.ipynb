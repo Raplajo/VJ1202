{
 "cells": [
  {
   "cell_type": "markdown",
   "id": "85211b89",
   "metadata": {},
   "source": [
    "El siguiente ejercicio se trata del ejecicio 240 del libro de programación I, el cual trata de crear una matriz identidad."
   ]
  },
  {
   "cell_type": "code",
   "execution_count": null,
   "id": "573f300c",
   "metadata": {},
   "outputs": [],
   "source": [
    "m=[]"
   ]
  },
  {
   "cell_type": "markdown",
   "id": "0db5b5ae",
   "metadata": {},
   "source": [
    "Primero hemos creado una lista m, de matriz, vacía."
   ]
  },
  {
   "cell_type": "code",
   "execution_count": null,
   "id": "028dd4f0",
   "metadata": {},
   "outputs": [],
   "source": [
    "n = int(input('Introduce el valor de dimensión de la matriz: '))\n",
    "x = 0\n",
    "i = 0"
   ]
  },
  {
   "cell_type": "markdown",
   "id": "4e9cc1c5",
   "metadata": {},
   "source": [
    "Ahora vamos a pedir por teclado el valor de la dimension de la matriz, que va ha ser cuadrada. Tambien le daremos el valor 0 a las variables X e I que nos sevirán para colocar los unos de la matriz identidad en las posiciones que corresponden y para el bucle respectivamente."
   ]
  },
  {
   "cell_type": "code",
   "execution_count": null,
   "id": "f142c2bc",
   "metadata": {},
   "outputs": [],
   "source": [
    "while i < n:\n",
    "    m.append([0]*n)\n",
    "    m[x][x] = 1\n",
    "    x += 1\n",
    "    i += 1"
   ]
  },
  {
   "cell_type": "markdown",
   "id": "88cb8e90",
   "metadata": {},
   "source": [
    "El bucle que acabamos de ver sirva para crear la matriz con la función .append, que añadirá a la lista m el valor 0 las veces que le hayamos introducido en el tamaño y luego metera en la posicion 0 de la lista 0 el valor 1, luego sumará 1 en la variable x para que la proxima vez se coloque el 1 en la posición 1 de la lista 1. el bucle se repetirá hasta tener el valor del tamaño de la matriz."
   ]
  },
  {
   "cell_type": "code",
   "execution_count": null,
   "id": "723fe0fe",
   "metadata": {},
   "outputs": [],
   "source": [
    "print(m)"
   ]
  },
  {
   "cell_type": "markdown",
   "id": "d68f49c1",
   "metadata": {},
   "source": [
    "Por último, pondermos en pantalla la matriz en si."
   ]
  }
 ],
 "metadata": {
  "kernelspec": {
   "display_name": "Python 3",
   "language": "python",
   "name": "python3"
  },
  "language_info": {
   "codemirror_mode": {
    "name": "ipython",
    "version": 3
   },
   "file_extension": ".py",
   "mimetype": "text/x-python",
   "name": "python",
   "nbconvert_exporter": "python",
   "pygments_lexer": "ipython3",
   "version": "3.8.8"
  }
 },
 "nbformat": 4,
 "nbformat_minor": 5
}
